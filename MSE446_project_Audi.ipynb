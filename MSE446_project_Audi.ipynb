{
 "cells": [
  {
   "cell_type": "markdown",
   "metadata": {},
   "source": [
    "# MSE 446 Project\n",
    "## car-price-prediction-ml\n",
    "## Group Members: Kiyon Farokhi and Eunchan Koh\n",
    "\n",
    "### Revised Problem Statement\n",
    "Accurately determining a fair price for a car can be challenging for both individuals and dealerships. Consumers who lack in-depth pricing knowledge risk overpaying or falling victim to scams, while dealerships may inadvertently overvalue or undervalue their inventory. To address this issue, we propose developing a machine learning model that forecasts the fair market price of a car using comprehensive data from a wholesale car dealer website. This model will consider a wide range of factors—including brand, model, production year, mileage, accident history, and additional features—to generate reliable price estimates. Ultimately, the model’s predictions aim to help both consumers and dealerships make more informed decisions about buying or selling vehicles.\n",
    "\n",
    "Machine learning offers a more robust and flexible approach to car price prediction because it can capture the complex interactions and non-linear relationships among a broad set of variables. Unlike traditional pricing models, which typically rely on a small number of features or strict linear assumptions, machine learning models adapt to market changes over time by integrating new data into their training process. This adaptability is especially important in a market subject to evolving consumer preferences, economic conditions, and seasonal trends. Furthermore, machine learning methods can incorporate a richer variety of inputs—including structured data like vehicle mileage and brand, as well as unstructured data such as text descriptions or vehicle history reports—leading to more accurate and insightful price forecasts. By continuously learning from new information and uncovering hidden patterns that conventional models might overlook, a machine learning–based pricing system can provide more reliable and up-to-date valuation guidance.\n",
    "**Hypothesis:** Incorporating time-based features (e.g., incremental mileage, adjusted depreciation for future years) into a tree-based ensemble model (e.g., Random Forest) will reduce the Root Mean Squared Error (RMSE) of 1–3 year car resale price predictions by at least 20% compared to a baseline linear regression model.\n",
    "\n",
    "### Revised Project Methodology \n",
    "1. **Data Collection & Cleaning**\n",
    "    - We will acquire a dataset containing historical car sales and listings (e.g., from a public repository on Kaggle or an open-source dealership data API).\n",
    "    - The dataset will include features such as:\n",
    "        - *Categorical*: Model, Transmission, FuelType\n",
    "        - *Numerical*: Year of Manufacture, Mileage, Road Tax, Miles Per Gallon, Engine Size, Sales Price\n",
    "    - We will inspect the data for missing values, perform imputation where feasible, and remove unusable entries if necessary.\n",
    "2. **Feature Engineering**\n",
    "    - **One-Hot Encoding** for categorical features (e.g., Model_A1, Model_A6).\n",
    "    - **Time-Based Variables**: Create a feature for “Car Age” at the time of sale, and incorporate projection for future years (e.g., Car Age + n).\n",
    "    - **Interaction Terms**: Possibly derive advanced features such as (Brand × Accident History) if it appears relevant.\n",
    "    - **Normalization** or **Standardization** of continuous features (Mileage, Engine Size) to aid certain algorithms.\n",
    "3. **Model Selection & Modification**\n",
    "    - **Baseline Model**: Multiple Linear Regression to provide a straightforward benchmark.\n",
    "    - **Advanced Models**:\n",
    "        - **Random Forest Regression** or **Gradient Boosting** (XGBoost) to capture nonlinear interactions.\n",
    "        - (Optional) **Modification**: We may experiment with weighting recent data more heavily, or integrating external economic indicators (e.g., inflation rates, fuel costs) to enhance long-term predictive accuracy.\n",
    "    - We will compare performance across these models to identify which approach best handles multi-year price forecasting.\n",
    "4. **Validation & Evaluation**\n",
    "    - **Train/Test Split**: We will split the dataset 80/20 (or similar).\n",
    "    - **k-Fold Cross-Validation**: 5-fold or 10-fold CV to ensure robust performance estimates.\n",
    "    - **Performance Metrics**:\n",
    "        - *Mean Squared Error (MSE)* and *Root Mean Squared Error (RMSE)* for penalizing larger errors.\n",
    "        - *Mean Absolute Error (MAE)* for straightforward interpretability (price in dollars).\n",
    "        - *R² Score* for overall fit.\n",
    "5. **Future Price Prediction**\n",
    "    - **Long-Term Forecasting**: We will simulate future conditions by incrementing the car’s age/mileage to a target year (e.g., +1 year, +3 years).\n",
    "    - **User-Adjustable Inputs**: For demonstration, we may build a simple interface (e.g., Streamlit or Jupyter notebook widgets) allowing the user to modify parameters like annual mileage growth or hypothetical “market shift” factors.\n",
    "    - The model will then output an estimated **future** resale value, showing how different scenarios affect price predictions.\n",
    "6. **Reporting & Insights**\n",
    "    - We will document the entire pipeline: data preprocessing, model training, hyperparameter tuning, and model comparison results.\n",
    "    - **Business/Scientific Insights**:\n",
    "        - Identify top predictive features (e.g., using feature importances or SHAP).\n",
    "        - Discuss how future vehicle demand, technology trends (EV vs. gas), or mileage constraints might shift predicted values.\n",
    "    - Our final write-up will include **recommendations** on how these insights can inform pricing decisions for stakeholders (dealerships, private sellers, or fleet managers)."
   ]
  },
  {
   "cell_type": "markdown",
   "metadata": {},
   "source": [
    "### Import Libraries"
   ]
  },
  {
   "cell_type": "code",
   "execution_count": 59,
   "metadata": {},
   "outputs": [],
   "source": [
    "import pandas as pd\n",
    "import numpy as np\n",
    "import seaborn as sns\n",
    "import matplotlib.pyplot as plt\n",
    "from sklearn.model_selection import train_test_split\n",
    "from sklearn.compose import ColumnTransformer\n",
    "from sklearn.preprocessing import StandardScaler, OneHotEncoder\n",
    "from sklearn.pipeline import Pipeline\n",
    "from sklearn.linear_model import LinearRegression\n",
    "import math\n",
    "\n",
    "from sklearn.ensemble import RandomForestRegressor\n",
    "from sklearn.model_selection import train_test_split\n",
    "from sklearn.metrics import root_mean_squared_error\n",
    "\n",
    "from sklearn.model_selection import KFold\n",
    "\n",
    "import warnings\n",
    "warnings.filterwarnings('ignore')\n"
   ]
  },
  {
   "cell_type": "markdown",
   "metadata": {},
   "source": [
    "### Implementing Multiple Linear Regression with audi.csv"
   ]
  },
  {
   "cell_type": "code",
   "execution_count": 14,
   "metadata": {},
   "outputs": [
    {
     "data": {
      "text/html": [
       "<div>\n",
       "<style scoped>\n",
       "    .dataframe tbody tr th:only-of-type {\n",
       "        vertical-align: middle;\n",
       "    }\n",
       "\n",
       "    .dataframe tbody tr th {\n",
       "        vertical-align: top;\n",
       "    }\n",
       "\n",
       "    .dataframe thead th {\n",
       "        text-align: right;\n",
       "    }\n",
       "</style>\n",
       "<table border=\"1\" class=\"dataframe\">\n",
       "  <thead>\n",
       "    <tr style=\"text-align: right;\">\n",
       "      <th></th>\n",
       "      <th>model</th>\n",
       "      <th>year</th>\n",
       "      <th>transmission</th>\n",
       "      <th>mileage</th>\n",
       "      <th>fuelType</th>\n",
       "      <th>tax</th>\n",
       "      <th>mpg</th>\n",
       "      <th>engineSize</th>\n",
       "      <th>price</th>\n",
       "    </tr>\n",
       "  </thead>\n",
       "  <tbody>\n",
       "    <tr>\n",
       "      <th>0</th>\n",
       "      <td>A1</td>\n",
       "      <td>2017</td>\n",
       "      <td>Manual</td>\n",
       "      <td>15735</td>\n",
       "      <td>Petrol</td>\n",
       "      <td>150</td>\n",
       "      <td>55.4</td>\n",
       "      <td>1.4</td>\n",
       "      <td>12500</td>\n",
       "    </tr>\n",
       "    <tr>\n",
       "      <th>1</th>\n",
       "      <td>A6</td>\n",
       "      <td>2016</td>\n",
       "      <td>Automatic</td>\n",
       "      <td>36203</td>\n",
       "      <td>Diesel</td>\n",
       "      <td>20</td>\n",
       "      <td>64.2</td>\n",
       "      <td>2.0</td>\n",
       "      <td>16500</td>\n",
       "    </tr>\n",
       "    <tr>\n",
       "      <th>2</th>\n",
       "      <td>A1</td>\n",
       "      <td>2016</td>\n",
       "      <td>Manual</td>\n",
       "      <td>29946</td>\n",
       "      <td>Petrol</td>\n",
       "      <td>30</td>\n",
       "      <td>55.4</td>\n",
       "      <td>1.4</td>\n",
       "      <td>11000</td>\n",
       "    </tr>\n",
       "    <tr>\n",
       "      <th>3</th>\n",
       "      <td>A4</td>\n",
       "      <td>2017</td>\n",
       "      <td>Automatic</td>\n",
       "      <td>25952</td>\n",
       "      <td>Diesel</td>\n",
       "      <td>145</td>\n",
       "      <td>67.3</td>\n",
       "      <td>2.0</td>\n",
       "      <td>16800</td>\n",
       "    </tr>\n",
       "    <tr>\n",
       "      <th>4</th>\n",
       "      <td>A3</td>\n",
       "      <td>2019</td>\n",
       "      <td>Manual</td>\n",
       "      <td>1998</td>\n",
       "      <td>Petrol</td>\n",
       "      <td>145</td>\n",
       "      <td>49.6</td>\n",
       "      <td>1.0</td>\n",
       "      <td>17300</td>\n",
       "    </tr>\n",
       "  </tbody>\n",
       "</table>\n",
       "</div>"
      ],
      "text/plain": [
       "  model  year transmission  mileage fuelType  tax   mpg  engineSize  price\n",
       "0    A1  2017       Manual    15735   Petrol  150  55.4         1.4  12500\n",
       "1    A6  2016    Automatic    36203   Diesel   20  64.2         2.0  16500\n",
       "2    A1  2016       Manual    29946   Petrol   30  55.4         1.4  11000\n",
       "3    A4  2017    Automatic    25952   Diesel  145  67.3         2.0  16800\n",
       "4    A3  2019       Manual     1998   Petrol  145  49.6         1.0  17300"
      ]
     },
     "metadata": {},
     "output_type": "display_data"
    },
    {
     "name": "stdout",
     "output_type": "stream",
     "text": [
      "<class 'pandas.core.frame.DataFrame'>\n",
      "RangeIndex: 10668 entries, 0 to 10667\n",
      "Data columns (total 9 columns):\n",
      " #   Column        Non-Null Count  Dtype  \n",
      "---  ------        --------------  -----  \n",
      " 0   model         10668 non-null  object \n",
      " 1   year          10668 non-null  int64  \n",
      " 2   transmission  10668 non-null  object \n",
      " 3   mileage       10668 non-null  int64  \n",
      " 4   fuelType      10668 non-null  object \n",
      " 5   tax           10668 non-null  int64  \n",
      " 6   mpg           10668 non-null  float64\n",
      " 7   engineSize    10668 non-null  float64\n",
      " 8   price         10668 non-null  int64  \n",
      "dtypes: float64(2), int64(4), object(3)\n",
      "memory usage: 750.2+ KB\n"
     ]
    },
    {
     "data": {
      "text/plain": [
       "None"
      ]
     },
     "metadata": {},
     "output_type": "display_data"
    },
    {
     "data": {
      "text/html": [
       "<div>\n",
       "<style scoped>\n",
       "    .dataframe tbody tr th:only-of-type {\n",
       "        vertical-align: middle;\n",
       "    }\n",
       "\n",
       "    .dataframe tbody tr th {\n",
       "        vertical-align: top;\n",
       "    }\n",
       "\n",
       "    .dataframe thead th {\n",
       "        text-align: right;\n",
       "    }\n",
       "</style>\n",
       "<table border=\"1\" class=\"dataframe\">\n",
       "  <thead>\n",
       "    <tr style=\"text-align: right;\">\n",
       "      <th></th>\n",
       "      <th>year</th>\n",
       "      <th>mileage</th>\n",
       "      <th>tax</th>\n",
       "      <th>mpg</th>\n",
       "      <th>engineSize</th>\n",
       "      <th>price</th>\n",
       "    </tr>\n",
       "  </thead>\n",
       "  <tbody>\n",
       "    <tr>\n",
       "      <th>count</th>\n",
       "      <td>10668.000000</td>\n",
       "      <td>10668.000000</td>\n",
       "      <td>10668.000000</td>\n",
       "      <td>10668.000000</td>\n",
       "      <td>10668.000000</td>\n",
       "      <td>10668.000000</td>\n",
       "    </tr>\n",
       "    <tr>\n",
       "      <th>mean</th>\n",
       "      <td>2017.100675</td>\n",
       "      <td>24827.244001</td>\n",
       "      <td>126.011436</td>\n",
       "      <td>50.770022</td>\n",
       "      <td>1.930709</td>\n",
       "      <td>22896.685039</td>\n",
       "    </tr>\n",
       "    <tr>\n",
       "      <th>std</th>\n",
       "      <td>2.167494</td>\n",
       "      <td>23505.257205</td>\n",
       "      <td>67.170294</td>\n",
       "      <td>12.949782</td>\n",
       "      <td>0.602957</td>\n",
       "      <td>11714.841888</td>\n",
       "    </tr>\n",
       "    <tr>\n",
       "      <th>min</th>\n",
       "      <td>1997.000000</td>\n",
       "      <td>1.000000</td>\n",
       "      <td>0.000000</td>\n",
       "      <td>18.900000</td>\n",
       "      <td>0.000000</td>\n",
       "      <td>1490.000000</td>\n",
       "    </tr>\n",
       "    <tr>\n",
       "      <th>25%</th>\n",
       "      <td>2016.000000</td>\n",
       "      <td>5968.750000</td>\n",
       "      <td>125.000000</td>\n",
       "      <td>40.900000</td>\n",
       "      <td>1.500000</td>\n",
       "      <td>15130.750000</td>\n",
       "    </tr>\n",
       "    <tr>\n",
       "      <th>50%</th>\n",
       "      <td>2017.000000</td>\n",
       "      <td>19000.000000</td>\n",
       "      <td>145.000000</td>\n",
       "      <td>49.600000</td>\n",
       "      <td>2.000000</td>\n",
       "      <td>20200.000000</td>\n",
       "    </tr>\n",
       "    <tr>\n",
       "      <th>75%</th>\n",
       "      <td>2019.000000</td>\n",
       "      <td>36464.500000</td>\n",
       "      <td>145.000000</td>\n",
       "      <td>58.900000</td>\n",
       "      <td>2.000000</td>\n",
       "      <td>27990.000000</td>\n",
       "    </tr>\n",
       "    <tr>\n",
       "      <th>max</th>\n",
       "      <td>2020.000000</td>\n",
       "      <td>323000.000000</td>\n",
       "      <td>580.000000</td>\n",
       "      <td>188.300000</td>\n",
       "      <td>6.300000</td>\n",
       "      <td>145000.000000</td>\n",
       "    </tr>\n",
       "  </tbody>\n",
       "</table>\n",
       "</div>"
      ],
      "text/plain": [
       "               year        mileage           tax           mpg    engineSize          price\n",
       "count  10668.000000   10668.000000  10668.000000  10668.000000  10668.000000   10668.000000\n",
       "mean    2017.100675   24827.244001    126.011436     50.770022      1.930709   22896.685039\n",
       "std        2.167494   23505.257205     67.170294     12.949782      0.602957   11714.841888\n",
       "min     1997.000000       1.000000      0.000000     18.900000      0.000000    1490.000000\n",
       "25%     2016.000000    5968.750000    125.000000     40.900000      1.500000   15130.750000\n",
       "50%     2017.000000   19000.000000    145.000000     49.600000      2.000000   20200.000000\n",
       "75%     2019.000000   36464.500000    145.000000     58.900000      2.000000   27990.000000\n",
       "max     2020.000000  323000.000000    580.000000    188.300000      6.300000  145000.000000"
      ]
     },
     "metadata": {},
     "output_type": "display_data"
    }
   ],
   "source": [
    "# get new car dataset\n",
    "df_new_cars = pd.read_csv('audi.csv')\n",
    "\n",
    "# inspecting the data\n",
    "display(df_new_cars.head())\n",
    "display(df_new_cars.info())\n",
    "display(df_new_cars.describe())\n"
   ]
  },
  {
   "cell_type": "code",
   "execution_count": 15,
   "metadata": {},
   "outputs": [
    {
     "data": {
      "image/png": "[encoded data removed]",
      "text/plain": [
       "<Figure size 640x480 with 1 Axes>"
      ]
     },
     "metadata": {},
     "output_type": "display_data"
    }
   ],
   "source": [
    "# Data Distribution\n",
    "pd.set_option('display.max_columns', None)\n",
    "pd.set_option('display.width', 1200)\n",
    "plt.title('MSRP Distribution Plot')\n",
    "sns.distplot(df_new_cars['price'])\n",
    "plt.show()"
   ]
  },
  {
   "cell_type": "markdown",
   "metadata": {},
   "source": [
    "## Distribution Plot analysis\n",
    "While testing different limits on x, it seems like the dataset has outlier cars. "
   ]
  },
  {
   "cell_type": "code",
   "execution_count": 56,
   "metadata": {},
   "outputs": [],
   "source": [
    "# creating price groups in 10 000 increments\n",
    "# df_new_cars['price_group'] = pd.cut(df_new_cars['price'],\n",
    "#                                     bins=range(0,600000 + 10000, 10000),\n",
    "#                                     right=False)\n",
    "# count number of vehicles per price group\n",
    "# price_group_counts = df_new_cars['price_group'].value_counts().sort_index()\n",
    "# print(df_new_cars['price_group'].isnull())\n",
    "\n"
   ]
  },
  {
   "cell_type": "code",
   "execution_count": 75,
   "metadata": {},
   "outputs": [
    {
     "data": {
      "image/png": "[encoded data removed]",
      "text/plain": [
       "<Figure size 640x480 with 1 Axes>"
      ]
     },
     "metadata": {},
     "output_type": "display_data"
    }
   ],
   "source": [
    "# Relationship between mpg and MSRP\n",
    "plt.scatter(df_new_cars['price'], df_new_cars['mpg'], color='lightcoral')\n",
    "plt.box(False)\n",
    "plt.show()"
   ]
  },
  {
   "cell_type": "code",
   "execution_count": 76,
   "metadata": {},
   "outputs": [
    {
     "data": {
      "image/png": "[encoded data removed]",
      "text/plain": [
       "<Figure size 640x480 with 1 Axes>"
      ]
     },
     "metadata": {},
     "output_type": "display_data"
    }
   ],
   "source": [
    "# Relationship between year and price\n",
    "plt.scatter(df_new_cars['year'], df_new_cars['price'], color='lightcoral')\n",
    "plt.box(False)\n",
    "plt.show()"
   ]
  },
  {
   "cell_type": "code",
   "execution_count": 77,
   "metadata": {},
   "outputs": [
    {
     "data": {
      "image/png": "[encoded data removed]",
      "text/plain": [
       "<Figure size 640x480 with 1 Axes>"
      ]
     },
     "metadata": {},
     "output_type": "display_data"
    }
   ],
   "source": [
    "# Relationship between mileage and price\n",
    "plt.scatter(df_new_cars['mileage'], df_new_cars['price'], color='lightcoral')\n",
    "plt.box(False)\n",
    "plt.show()"
   ]
  },
  {
   "cell_type": "markdown",
   "metadata": {},
   "source": [
    "We expected the dataset to be linear and has homoscedasticity. However, it mostly has trait of heteroscedasticity."
   ]
  },
  {
   "cell_type": "code",
   "execution_count": 20,
   "metadata": {},
   "outputs": [],
   "source": [
    "# For creating One-Hot-encoding for categories and to scaling the values\n",
    "numeric_transformer = Pipeline(steps=[\n",
    "    ('scaler', StandardScaler())\n",
    "])\n",
    "\n",
    "categorical_transformer = Pipeline(steps=[\n",
    "    ('encoder', OneHotEncoder())\n",
    "])\n",
    "\n",
    "ct = ColumnTransformer(\n",
    "    transformers=[\n",
    "        ('num', numeric_transformer, [0,1,2,3,4])\n",
    "        # ('cat', categorical_transformer, [0,2,4])\n",
    "    ], remainder='passthrough'\n",
    ")"
   ]
  },
  {
   "cell_type": "code",
   "execution_count": 21,
   "metadata": {},
   "outputs": [],
   "source": [
    "#function to erase white space if the input is string. Then returns the character without white spaces.\n",
    "def strip_if_str(x):\n",
    "    return x.strip() if isinstance(x,str) else x"
   ]
  },
  {
   "cell_type": "code",
   "execution_count": 22,
   "metadata": {},
   "outputs": [
    {
     "name": "stdout",
     "output_type": "stream",
     "text": [
      "      model  year transmission  mileage fuelType  tax   mpg  engineSize  price\n",
      "0        A1  2017       Manual    15735   Petrol  150  55.4         1.4  12500\n",
      "1        A6  2016    Automatic    36203   Diesel   20  64.2         2.0  16500\n",
      "2        A1  2016       Manual    29946   Petrol   30  55.4         1.4  11000\n",
      "3        A4  2017    Automatic    25952   Diesel  145  67.3         2.0  16800\n",
      "4        A3  2019       Manual     1998   Petrol  145  49.6         1.0  17300\n",
      "...     ...   ...          ...      ...      ...  ...   ...         ...    ...\n",
      "10663    A3  2020       Manual     4018   Petrol  145  49.6         1.0  16999\n",
      "10664    A3  2020       Manual     1978   Petrol  150  49.6         1.0  16999\n",
      "10665    A3  2020       Manual      609   Petrol  150  49.6         1.0  17199\n",
      "10666    Q3  2017    Automatic     8646   Petrol  150  47.9         1.4  19499\n",
      "10667    Q3  2016       Manual    11855   Petrol  150  47.9         1.4  15999\n",
      "\n",
      "[10668 rows x 9 columns]\n"
     ]
    }
   ],
   "source": [
    "# let X be the variables and Y be the price output. Then also adding columns for one-hot-encoding.\n",
    "X = df_new_cars.iloc[:, :-1]\n",
    "X = pd.get_dummies(X, columns=['model', 'transmission', 'fuelType'],dtype=int) \n",
    "\n",
    "#save the column names using this\n",
    "column_names = X.columns.to_numpy()\n",
    "\n",
    "# Since price is on the last column, we can get the price column by following\n",
    "y = df_new_cars.iloc[:, -1].values\n",
    "print(df_new_cars)\n",
    "\n",
    "#some strings have white spaces. Erase the white spaces using following\n",
    "X = np.vectorize(strip_if_str)(X)\n",
    "\n",
    "#And using this, change the df so hot-encoding for categories and standard scaling is applied to X\n",
    "X = ct.fit_transform(X)\n"
   ]
  },
  {
   "cell_type": "code",
   "execution_count": 23,
   "metadata": {},
   "outputs": [
    {
     "name": "stdout",
     "output_type": "stream",
     "text": [
      "[[12732.11 14998.  ]\n",
      " [27554.99 21950.  ]\n",
      " [30460.11 28990.  ]\n",
      " ...\n",
      " [49080.49 45995.  ]\n",
      " [30319.02 30500.  ]\n",
      " [ 7317.01  8400.  ]]\n"
     ]
    }
   ],
   "source": [
    "X_train, X_test, y_train, y_test = train_test_split(X, y, test_size = 0.2, random_state = 0)\n",
    "\n",
    "regressor = LinearRegression()\n",
    "regressor.fit(X_train, y_train)\n",
    "\n",
    "y_pred = regressor.predict(X_test)\n",
    "\n",
    "np.set_printoptions(precision = 2)\n",
    "result = np.concatenate((y_pred.reshape(len(y_pred), 1), y_test.reshape(len(y_test), 1)), 1)\n",
    "\n",
    "#so we got this result. Left values are the predicted values, and the values on the right are the actual values on test data.\n",
    "print(result)"
   ]
  },
  {
   "cell_type": "code",
   "execution_count": 24,
   "metadata": {},
   "outputs": [
    {
     "name": "stdout",
     "output_type": "stream",
     "text": [
      "[['year' 'mileage' 'tax' 'mpg' 'engineSize' 'model_ A1' 'model_ A2'\n",
      "  'model_ A3' 'model_ A4' 'model_ A5' 'model_ A6' 'model_ A7' 'model_ A8'\n",
      "  'model_ Q2' 'model_ Q3' 'model_ Q5' 'model_ Q7' 'model_ Q8' 'model_ R8'\n",
      "  'model_ RS3' 'model_ RS4' 'model_ RS5' 'model_ RS6' 'model_ RS7'\n",
      "  'model_ S3' 'model_ S4' 'model_ S5' 'model_ S8' 'model_ SQ5'\n",
      "  'model_ SQ7' 'model_ TT' 'transmission_Automatic' 'transmission_Manual'\n",
      "  'transmission_Semi-Auto' 'fuelType_Diesel' 'fuelType_Hybrid'\n",
      "  'fuelType_Petrol']\n",
      " [3956.066049304593 -1847.6252154414738 -2000.8999025706273\n",
      "  -3755.7145744553445 2769.969258260571 -11812.865164279001\n",
      "  7387.65623318811 -10466.259257620866 -10156.039794507007\n",
      "  -8825.683953318574 -8145.106332557499 -7403.570909343718\n",
      "  -3757.3301447343715 -10249.639821122228 -8845.182955566173\n",
      "  -4948.312184156535 3348.6962480153793 13745.02478657857\n",
      "  49677.17528014478 -2036.252199089776 8475.929648769106\n",
      "  7848.3049522528545 15931.706983865775 7274.391801870968\n",
      "  -6293.867031085512 483.5319131818579 -11211.040798095753\n",
      "  -9496.638738046042 -280.30242807762403 8230.35379950975\n",
      "  -8474.679935776423 419.62596483573486 -995.5424299775257\n",
      "  575.916465141637 -10868.99811711172 22584.109969165052\n",
      "  -11715.111852053198]]\n",
      "Intercept: 42521.80085341184\n"
     ]
    }
   ],
   "source": [
    "#as the output, we got the coefficients and intercept values as following\n",
    "temp1 = regressor.coef_\n",
    "\n",
    "temp = np.vstack((column_names, temp1))\n",
    "print(temp)\n",
    "# print(f'Coefficient: {regressor.coef_}')\n",
    "\n",
    "print(f'Intercept: {regressor.intercept_}')"
   ]
  },
  {
   "cell_type": "code",
   "execution_count": 69,
   "metadata": {},
   "outputs": [
    {
     "name": "stdout",
     "output_type": "stream",
     "text": [
      "baseline's RMSE is: 4033.452464246587\n"
     ]
    }
   ],
   "source": [
    "X_train, X_test, y_train, y_test = train_test_split(X, y, test_size = 0.2)\n",
    "regressor.fit(X_train, y_train)\n",
    "y_pred = regressor.predict(X_test)\n",
    "result = np.concatenate((y_pred.reshape(len(y_pred), 1), y_test.reshape(len(y_test), 1)), 1)\n",
    "sumUp = 0\n",
    "for i in range(result.shape[0]):\n",
    "    calValue = result[i][0] - result[i][1]\n",
    "    calValue *= calValue\n",
    "    sumUp += calValue\n",
    "    \n",
    "sumUp /= result.shape[0]\n",
    "sumUp = math.sqrt(sumUp)\n",
    "\n",
    "print(\"baseline's RMSE is:\", sumUp)"
   ]
  },
  {
   "cell_type": "code",
   "execution_count": 70,
   "metadata": {},
   "outputs": [
    {
     "name": "stdout",
     "output_type": "stream",
     "text": [
      "RMSE of baseline is:  4033.452464246588\n"
     ]
    }
   ],
   "source": [
    "# same as the work above, but to make sure this function is also reliable\n",
    "rmse = root_mean_squared_error(y_test, y_pred) # RMSE\n",
    "print(\"RMSE of baseline is: \", rmse)"
   ]
  },
  {
   "cell_type": "code",
   "execution_count": 71,
   "metadata": {},
   "outputs": [
    {
     "name": "stdout",
     "output_type": "stream",
     "text": [
      "Sample Size is:  6827\n",
      "RMSE of random forest regression is:  2170.671538701629\n"
     ]
    }
   ],
   "source": [
    "X_train, X_test, y_train, y_test = train_test_split(X, y, test_size = 0.2)\n",
    "\n",
    "# this function will be creating 100 decision trees. Each tree does not have limit on the depth, and each leaf can be having at least only one sample.\n",
    "# All trees consider all features at most. It uses bootstrapping for creating the trees, and it does not have any seed number for randomness.\n",
    "# However, if the random seed number need to be used, include random_state=0 or 42.\n",
    "# By default, Each tree has same number of the sample as the size of randomly selected 80% training data at most.\n",
    "# To modify, we can change the maximum number of samples in each tree using max_sample=n.\n",
    "# currently, using the sample size equal to 80% of the training dataset.\n",
    "sampleSize = int(X_train.shape[0]*0.8)\n",
    "print(\"Sample Size is: \", sampleSize)\n",
    "rf = RandomForestRegressor(n_estimators=100, max_samples=sampleSize)\n",
    "rf.fit(X_train, y_train)\n",
    "\n",
    "y_pred = rf.predict(X_test)\n",
    "rmse = root_mean_squared_error(y_test, y_pred) # RMSE\n",
    "print(\"RMSE of random forest regression is: \", rmse)"
   ]
  },
  {
   "cell_type": "code",
   "execution_count": 72,
   "metadata": {},
   "outputs": [
    {
     "name": "stdout",
     "output_type": "stream",
     "text": [
      "Average RMSE: 2346.5504303033317\n"
     ]
    }
   ],
   "source": [
    "# for k-fold testing, k=5 since our training dataset has 80% of entire dataset\n",
    "# Since the dataset is not organized(such as time-based), set shuffle to true.\n",
    "kf = KFold(n_splits=5, shuffle=True, random_state=42)\n",
    "\n",
    "rmse_result = 0\n",
    "\n",
    "for train_index, test_index in kf.split(X):\n",
    "    X_train, X_test = X[train_index], X[test_index]\n",
    "    y_train, y_test = y[train_index], y[test_index]\n",
    "\n",
    "    model = RandomForestRegressor(n_estimators=100, random_state=42)\n",
    "    model.fit(X_train, y_train)\n",
    "\n",
    "    y_pred = model.predict(X_test)\n",
    "    rmse = root_mean_squared_error(y_test, y_pred)\n",
    "    rmse_result += rmse\n",
    "\n",
    "rmse_result /= 5\n",
    "\n",
    "print(\"Average RMSE:\", rmse_scores)"
   ]
  },
  {
   "cell_type": "markdown",
   "metadata": {},
   "source": [
    "## Results\n",
    "The solution of having Random Forest Regression using the variables we got from data and one-hot-encoding had much smaller value of RMSE compared to when we used the multiple linear regression method. \n",
    "\n",
    "Our initial purpose is to create the ideal model to predict price of cars. The reason why we picked the multiple linear regression as the method to create a price predicting model is because we expected the practical data of car sales to be linear since lots of data values were numeric. We expected that it would be a perfect method to have since multiple linear regression takes much less time for calculation compared to other methods. However, the actual dataset we got from our resources had a trend of heteroscedasticity instead of homoscedasticity, making it unable to create a linear regression model with least RMSE since data are spreading as variable values increase/decrease. Therefore to create a better price prediction model, we had to choose a different method. The model we picked was the Random Forest Regression, and it worked much better compared to the multiple linear regression. \n",
    "\n",
    "However, Random Forest Regression model also had a weak points as well, which is it takes much longer time and much more resources to calculate and predict the price. It will be taking longer time and more resources as the size of the dataset increases. One of the method to treat this problem is to control how many trees we will be making based on how many feature and samples from the dataset, but this can be lowering the accuracy of the model, so we need to consider how much loss of accuracy we can tolerate, based on the purpose of the model.\n",
    "\n",
    "By going through this project, we were able to learn about the traits and practical problems that we can face during creating the proper machine learning model for the dataset. Also, we learned the strength and weak points of both multiple linear regression and random forest regression model and how they works with actual dataset.\n",
    "\n",
    "\n",
    "As the result shown, the RMSE of the result we gained from random forest regression is 30~46% less than the RMSE we gained using the linear regression model since the data had heteroscedasticity instead of homoscedasticity."
   ]
  },
  {
   "cell_type": "markdown",
   "metadata": {},
   "source": [
    "## Conclusion\n",
    "\n",
    "As our hypothesis, the RMSE has decreased at least by 20% when we used the Random Forest Regression compared to the multiple linear regression. We thought that in car price prediction, linear regression model would be able to predict the price quickly with small RMSE. However, the practical dataset did not always have such an ideal trend, making it unable to predict car price precisely using multiple linear regression. We were able to realize the need of stronger price predicting model, how random forest regression works and the strength and weak points of it as well. If we were to continue this project, we would like to search up more about possible models we can have for price prediction and try to make better machine learning model for predicting more precise car price."
   ]
  },
  {
   "cell_type": "code",
   "execution_count": null,
   "metadata": {},
   "outputs": [],
   "source": []
  },
  {
   "cell_type": "code",
   "execution_count": null,
   "metadata": {},
   "outputs": [],
   "source": []
  }
 ],
 "metadata": {
  "kernelspec": {
   "display_name": "Python 3 (ipykernel)",
   "language": "python",
   "name": "python3"
  },
  "language_info": {
   "codemirror_mode": {
    "name": "ipython",
    "version": 3
   },
   "file_extension": ".py",
   "mimetype": "text/x-python",
   "name": "python",
   "nbconvert_exporter": "python",
   "pygments_lexer": "ipython3",
   "version": "3.13.1"
  }
 },
 "nbformat": 4,
 "nbformat_minor": 4
}
